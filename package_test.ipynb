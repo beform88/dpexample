{
 "cells": [
  {
   "cell_type": "code",
   "execution_count": 1,
   "metadata": {},
   "outputs": [
    {
     "name": "stderr",
     "output_type": "stream",
     "text": [
      "/opt/conda/envs/unicore/lib/python3.8/site-packages/tqdm/auto.py:22: TqdmWarning: IProgress not found. Please update jupyter and ipywidgets. See https://ipywidgets.readthedocs.io/en/stable/user_install.html\n",
      "  from .autonotebook import tqdm as notebook_tqdm\n"
     ]
    }
   ],
   "source": [
    "from Unimol_2_NMR_fix.train import NMR_Fix_Master"
   ]
  },
  {
   "cell_type": "code",
   "execution_count": 2,
   "metadata": {},
   "outputs": [
    {
     "name": "stdout",
     "output_type": "stream",
     "text": [
      "Init_data in /mnt/vepfs/users/ycjin/Delta-ML Framework/Unimol_2_NMR_fix/example/raw_data/ml_pbe0_pcSseg-2_h.csv\n",
      "Processing Data ...\n",
      "Loading Data ...\n"
     ]
    }
   ],
   "source": [
    "nfm = NMR_Fix_Master(data_path = '/mnt/vepfs/users/ycjin/Delta-ML Framework/Unimol_2_NMR_fix/example/raw_data/ml_pbe0_pcSseg-2_h.csv',\n",
    "                     task = 'h',\n",
    "                     save_dir = '/mnt/vepfs/users/ycjin/Delta-ML Framework/Unimol_2_NMR_fix/example/process_data',\n",
    "                     datahub_config = {\n",
    "                         'desc' : ['ascf',],   \n",
    "                     },\n",
    "                     trainer_config = {\n",
    "                         'max_epoch':10\n",
    "                     },\n",
    "                     modelhub_config = {\n",
    "                         'train_size':0.875\n",
    "                     })\n"
   ]
  },
  {
   "cell_type": "code",
   "execution_count": 3,
   "metadata": {},
   "outputs": [
    {
     "data": {
      "text/plain": [
       "0.875"
      ]
     },
     "execution_count": 3,
     "metadata": {},
     "output_type": "execute_result"
    }
   ],
   "source": [
    "nfm.modelhub.model.train_size"
   ]
  },
  {
   "cell_type": "code",
   "execution_count": 4,
   "metadata": {},
   "outputs": [],
   "source": [
    "nfm.update_trainer(max_epoch =100)\n",
    "nfm.update_modelhub(num_layers = 3)"
   ]
  },
  {
   "cell_type": "code",
   "execution_count": 5,
   "metadata": {},
   "outputs": [
    {
     "name": "stderr",
     "output_type": "stream",
     "text": [
      "Train:   0%|          | 0/193 [00:00<?, ?it/s, Epoch=Epoch 1/100, loss=6.0765, lr=0.0000]/opt/conda/envs/pytorch1.12/lib/python3.8/site-packages/torch/optim/lr_scheduler.py:139: UserWarning: Detected call of `lr_scheduler.step()` before `optimizer.step()`. In PyTorch 1.1.0 and later, you should call them in the opposite order: `optimizer.step()` before `lr_scheduler.step()`.  Failure to do this will result in PyTorch skipping the first value of the learning rate schedule. See more details at https://pytorch.org/docs/stable/optim.html#how-to-adjust-learning-rate\n",
      "  warnings.warn(\"Detected call of `lr_scheduler.step()` before `optimizer.step()`. \"\n",
      "2023-08-22 08:04:04 | Unimol_2_NMR_fix/task/trainer.py | 99 | INFO | Echem | Epoch [1/100] train_loss: 0.3095, val_loss: 0.0227, val_mse: 0.0227, lr: 0.000010, 1.5s\n",
      "2023-08-22 08:04:05 | Unimol_2_NMR_fix/task/trainer.py | 99 | INFO | Echem | Epoch [2/100] train_loss: 0.0467, val_loss: 0.1526, val_mse: 0.1520, lr: 0.000020, 1.0s\n",
      "2023-08-22 08:04:06 | Unimol_2_NMR_fix/task/trainer.py | 99 | INFO | Echem | Epoch [3/100] train_loss: 0.0892, val_loss: 0.0271, val_mse: 0.0270, lr: 0.000030, 1.0s\n",
      "2023-08-22 08:04:07 | Unimol_2_NMR_fix/task/trainer.py | 99 | INFO | Echem | Epoch [4/100] train_loss: 0.1043, val_loss: 0.0427, val_mse: 0.0425, lr: 0.000040, 1.0s\n",
      "2023-08-22 08:04:08 | Unimol_2_NMR_fix/task/trainer.py | 99 | INFO | Echem | Epoch [5/100] train_loss: 0.0761, val_loss: 0.0185, val_mse: 0.0184, lr: 0.000050, 1.0s\n",
      "2023-08-22 08:04:09 | Unimol_2_NMR_fix/task/trainer.py | 99 | INFO | Echem | Epoch [6/100] train_loss: 0.0804, val_loss: 0.2172, val_mse: 0.2164, lr: 0.000060, 0.9s\n",
      "2023-08-22 08:04:10 | Unimol_2_NMR_fix/task/trainer.py | 99 | INFO | Echem | Epoch [7/100] train_loss: 0.0910, val_loss: 0.0846, val_mse: 0.0844, lr: 0.000070, 0.9s\n",
      "2023-08-22 08:04:11 | Unimol_2_NMR_fix/task/trainer.py | 99 | INFO | Echem | Epoch [8/100] train_loss: 0.1153, val_loss: 0.0826, val_mse: 0.0824, lr: 0.000080, 1.0s\n",
      "2023-08-22 08:04:12 | Unimol_2_NMR_fix/task/trainer.py | 99 | INFO | Echem | Epoch [9/100] train_loss: 0.0676, val_loss: 0.1405, val_mse: 0.1401, lr: 0.000090, 1.0s\n",
      "2023-08-22 08:04:13 | Unimol_2_NMR_fix/task/trainer.py | 99 | INFO | Echem | Epoch [10/100] train_loss: 0.0750, val_loss: 0.0398, val_mse: 0.0396, lr: 0.000100, 1.0s\n",
      "2023-08-22 08:04:14 | Unimol_2_NMR_fix/task/trainer.py | 99 | INFO | Echem | Epoch [11/100] train_loss: 0.0928, val_loss: 0.1049, val_mse: 0.1044, lr: 0.000099, 0.9s\n",
      "2023-08-22 08:04:15 | Unimol_2_NMR_fix/task/trainer.py | 99 | INFO | Echem | Epoch [12/100] train_loss: 0.0557, val_loss: 0.0272, val_mse: 0.0272, lr: 0.000098, 1.0s\n",
      "2023-08-22 08:04:16 | Unimol_2_NMR_fix/task/trainer.py | 99 | INFO | Echem | Epoch [13/100] train_loss: 0.0300, val_loss: 0.0110, val_mse: 0.0110, lr: 0.000097, 0.9s\n",
      "2023-08-22 08:04:17 | Unimol_2_NMR_fix/task/trainer.py | 99 | INFO | Echem | Epoch [14/100] train_loss: 0.0254, val_loss: 0.0408, val_mse: 0.0407, lr: 0.000096, 0.9s\n",
      "2023-08-22 08:04:18 | Unimol_2_NMR_fix/task/trainer.py | 99 | INFO | Echem | Epoch [15/100] train_loss: 0.0287, val_loss: 0.0228, val_mse: 0.0227, lr: 0.000094, 0.9s\n",
      "2023-08-22 08:04:19 | Unimol_2_NMR_fix/task/trainer.py | 99 | INFO | Echem | Epoch [16/100] train_loss: 0.0188, val_loss: 0.0141, val_mse: 0.0140, lr: 0.000093, 0.9s\n",
      "2023-08-22 08:04:20 | Unimol_2_NMR_fix/task/trainer.py | 99 | INFO | Echem | Epoch [17/100] train_loss: 0.0156, val_loss: 0.0146, val_mse: 0.0146, lr: 0.000092, 0.9s\n",
      "2023-08-22 08:04:21 | Unimol_2_NMR_fix/task/trainer.py | 99 | INFO | Echem | Epoch [18/100] train_loss: 0.0161, val_loss: 0.0063, val_mse: 0.0063, lr: 0.000091, 1.0s\n",
      "2023-08-22 08:04:22 | Unimol_2_NMR_fix/task/trainer.py | 99 | INFO | Echem | Epoch [19/100] train_loss: 0.0128, val_loss: 0.0075, val_mse: 0.0074, lr: 0.000090, 1.0s\n",
      "2023-08-22 08:04:23 | Unimol_2_NMR_fix/task/trainer.py | 99 | INFO | Echem | Epoch [20/100] train_loss: 0.0078, val_loss: 0.0047, val_mse: 0.0047, lr: 0.000089, 0.9s\n",
      "2023-08-22 08:04:24 | Unimol_2_NMR_fix/task/trainer.py | 99 | INFO | Echem | Epoch [21/100] train_loss: 0.0070, val_loss: 0.0057, val_mse: 0.0057, lr: 0.000088, 0.9s\n",
      "2023-08-22 08:04:24 | Unimol_2_NMR_fix/task/trainer.py | 99 | INFO | Echem | Epoch [22/100] train_loss: 0.0085, val_loss: 0.0074, val_mse: 0.0074, lr: 0.000087, 0.9s\n",
      "2023-08-22 08:04:25 | Unimol_2_NMR_fix/task/trainer.py | 99 | INFO | Echem | Epoch [23/100] train_loss: 0.0067, val_loss: 0.0066, val_mse: 0.0066, lr: 0.000086, 0.9s\n",
      "2023-08-22 08:04:26 | Unimol_2_NMR_fix/task/trainer.py | 99 | INFO | Echem | Epoch [24/100] train_loss: 0.0053, val_loss: 0.0058, val_mse: 0.0058, lr: 0.000084, 0.9s\n",
      "2023-08-22 08:04:27 | Unimol_2_NMR_fix/task/trainer.py | 99 | INFO | Echem | Epoch [25/100] train_loss: 0.0048, val_loss: 0.0037, val_mse: 0.0037, lr: 0.000083, 0.9s\n",
      "2023-08-22 08:04:28 | Unimol_2_NMR_fix/task/trainer.py | 99 | INFO | Echem | Epoch [26/100] train_loss: 0.0047, val_loss: 0.0035, val_mse: 0.0035, lr: 0.000082, 0.9s\n",
      "2023-08-22 08:04:29 | Unimol_2_NMR_fix/task/trainer.py | 99 | INFO | Echem | Epoch [27/100] train_loss: 0.0043, val_loss: 0.0040, val_mse: 0.0040, lr: 0.000081, 1.0s\n",
      "2023-08-22 08:04:30 | Unimol_2_NMR_fix/task/trainer.py | 99 | INFO | Echem | Epoch [28/100] train_loss: 0.0043, val_loss: 0.0036, val_mse: 0.0036, lr: 0.000080, 1.0s\n",
      "2023-08-22 08:04:31 | Unimol_2_NMR_fix/task/trainer.py | 99 | INFO | Echem | Epoch [29/100] train_loss: 0.0041, val_loss: 0.0075, val_mse: 0.0075, lr: 0.000079, 0.9s\n",
      "2023-08-22 08:04:32 | Unimol_2_NMR_fix/task/trainer.py | 99 | INFO | Echem | Epoch [30/100] train_loss: 0.0041, val_loss: 0.0026, val_mse: 0.0026, lr: 0.000078, 0.9s\n",
      "2023-08-22 08:04:33 | Unimol_2_NMR_fix/task/trainer.py | 99 | INFO | Echem | Epoch [31/100] train_loss: 0.0032, val_loss: 0.0040, val_mse: 0.0040, lr: 0.000077, 1.0s\n",
      "2023-08-22 08:04:34 | Unimol_2_NMR_fix/task/trainer.py | 99 | INFO | Echem | Epoch [32/100] train_loss: 0.0034, val_loss: 0.0029, val_mse: 0.0029, lr: 0.000076, 0.9s\n",
      "2023-08-22 08:04:35 | Unimol_2_NMR_fix/task/trainer.py | 99 | INFO | Echem | Epoch [33/100] train_loss: 0.0028, val_loss: 0.0019, val_mse: 0.0019, lr: 0.000074, 0.9s\n",
      "2023-08-22 08:04:36 | Unimol_2_NMR_fix/task/trainer.py | 99 | INFO | Echem | Epoch [34/100] train_loss: 0.0027, val_loss: 0.0020, val_mse: 0.0020, lr: 0.000073, 0.9s\n",
      "2023-08-22 08:04:37 | Unimol_2_NMR_fix/task/trainer.py | 99 | INFO | Echem | Epoch [35/100] train_loss: 0.0026, val_loss: 0.0022, val_mse: 0.0022, lr: 0.000072, 0.9s\n",
      "2023-08-22 08:04:38 | Unimol_2_NMR_fix/task/trainer.py | 99 | INFO | Echem | Epoch [36/100] train_loss: 0.0026, val_loss: 0.0024, val_mse: 0.0024, lr: 0.000071, 0.9s\n",
      "2023-08-22 08:04:39 | Unimol_2_NMR_fix/task/trainer.py | 99 | INFO | Echem | Epoch [37/100] train_loss: 0.0031, val_loss: 0.0032, val_mse: 0.0032, lr: 0.000070, 0.9s\n",
      "2023-08-22 08:04:40 | Unimol_2_NMR_fix/task/trainer.py | 99 | INFO | Echem | Epoch [38/100] train_loss: 0.0020, val_loss: 0.0010, val_mse: 0.0010, lr: 0.000069, 0.9s\n",
      "2023-08-22 08:04:41 | Unimol_2_NMR_fix/task/trainer.py | 99 | INFO | Echem | Epoch [39/100] train_loss: 0.0018, val_loss: 0.0010, val_mse: 0.0010, lr: 0.000068, 0.9s\n",
      "2023-08-22 08:04:42 | Unimol_2_NMR_fix/task/trainer.py | 99 | INFO | Echem | Epoch [40/100] train_loss: 0.0018, val_loss: 0.0024, val_mse: 0.0024, lr: 0.000067, 0.9s\n",
      "2023-08-22 08:04:43 | Unimol_2_NMR_fix/task/trainer.py | 99 | INFO | Echem | Epoch [41/100] train_loss: 0.0014, val_loss: 0.0017, val_mse: 0.0017, lr: 0.000066, 1.0s\n",
      "2023-08-22 08:04:44 | Unimol_2_NMR_fix/task/trainer.py | 99 | INFO | Echem | Epoch [42/100] train_loss: 0.0015, val_loss: 0.0008, val_mse: 0.0008, lr: 0.000064, 1.0s\n",
      "2023-08-22 08:04:45 | Unimol_2_NMR_fix/task/trainer.py | 99 | INFO | Echem | Epoch [43/100] train_loss: 0.0013, val_loss: 0.0016, val_mse: 0.0016, lr: 0.000063, 0.9s\n",
      "2023-08-22 08:04:46 | Unimol_2_NMR_fix/task/trainer.py | 99 | INFO | Echem | Epoch [44/100] train_loss: 0.0015, val_loss: 0.0010, val_mse: 0.0010, lr: 0.000062, 0.9s\n",
      "2023-08-22 08:04:47 | Unimol_2_NMR_fix/task/trainer.py | 99 | INFO | Echem | Epoch [45/100] train_loss: 0.0011, val_loss: 0.0006, val_mse: 0.0006, lr: 0.000061, 0.9s\n",
      "2023-08-22 08:04:48 | Unimol_2_NMR_fix/task/trainer.py | 99 | INFO | Echem | Epoch [46/100] train_loss: 0.0009, val_loss: 0.0008, val_mse: 0.0008, lr: 0.000060, 1.0s\n",
      "2023-08-22 08:04:49 | Unimol_2_NMR_fix/task/trainer.py | 99 | INFO | Echem | Epoch [47/100] train_loss: 0.0011, val_loss: 0.0009, val_mse: 0.0009, lr: 0.000059, 0.9s\n",
      "2023-08-22 08:04:49 | Unimol_2_NMR_fix/task/trainer.py | 99 | INFO | Echem | Epoch [48/100] train_loss: 0.0008, val_loss: 0.0012, val_mse: 0.0012, lr: 0.000058, 0.9s\n",
      "2023-08-22 08:04:50 | Unimol_2_NMR_fix/task/trainer.py | 99 | INFO | Echem | Epoch [49/100] train_loss: 0.0015, val_loss: 0.0012, val_mse: 0.0012, lr: 0.000057, 1.0s\n",
      "2023-08-22 08:04:51 | Unimol_2_NMR_fix/task/trainer.py | 99 | INFO | Echem | Epoch [50/100] train_loss: 0.0021, val_loss: 0.0005, val_mse: 0.0005, lr: 0.000056, 0.9s\n",
      "2023-08-22 08:04:52 | Unimol_2_NMR_fix/task/trainer.py | 99 | INFO | Echem | Epoch [51/100] train_loss: 0.0008, val_loss: 0.0006, val_mse: 0.0005, lr: 0.000054, 0.9s\n",
      "2023-08-22 08:04:53 | Unimol_2_NMR_fix/task/trainer.py | 99 | INFO | Echem | Epoch [52/100] train_loss: 0.0009, val_loss: 0.0006, val_mse: 0.0006, lr: 0.000053, 1.0s\n",
      "2023-08-22 08:04:54 | Unimol_2_NMR_fix/task/trainer.py | 99 | INFO | Echem | Epoch [53/100] train_loss: 0.0006, val_loss: 0.0009, val_mse: 0.0009, lr: 0.000052, 0.9s\n",
      "2023-08-22 08:04:55 | Unimol_2_NMR_fix/task/trainer.py | 99 | INFO | Echem | Epoch [54/100] train_loss: 0.0008, val_loss: 0.0005, val_mse: 0.0005, lr: 0.000051, 0.9s\n",
      "2023-08-22 08:04:56 | Unimol_2_NMR_fix/task/trainer.py | 99 | INFO | Echem | Epoch [55/100] train_loss: 0.0005, val_loss: 0.0003, val_mse: 0.0003, lr: 0.000050, 1.0s\n",
      "2023-08-22 08:04:57 | Unimol_2_NMR_fix/task/trainer.py | 99 | INFO | Echem | Epoch [56/100] train_loss: 0.0006, val_loss: 0.0003, val_mse: 0.0003, lr: 0.000049, 0.9s\n",
      "2023-08-22 08:04:58 | Unimol_2_NMR_fix/task/trainer.py | 99 | INFO | Echem | Epoch [57/100] train_loss: 0.0004, val_loss: 0.0002, val_mse: 0.0002, lr: 0.000048, 0.9s\n",
      "2023-08-22 08:04:59 | Unimol_2_NMR_fix/task/trainer.py | 99 | INFO | Echem | Epoch [58/100] train_loss: 0.0006, val_loss: 0.0002, val_mse: 0.0002, lr: 0.000047, 1.0s\n",
      "2023-08-22 08:05:00 | Unimol_2_NMR_fix/task/trainer.py | 99 | INFO | Echem | Epoch [59/100] train_loss: 0.0004, val_loss: 0.0003, val_mse: 0.0003, lr: 0.000046, 1.0s\n",
      "2023-08-22 08:05:01 | Unimol_2_NMR_fix/task/trainer.py | 99 | INFO | Echem | Epoch [60/100] train_loss: 0.0004, val_loss: 0.0003, val_mse: 0.0003, lr: 0.000044, 1.0s\n",
      "2023-08-22 08:05:02 | Unimol_2_NMR_fix/task/trainer.py | 99 | INFO | Echem | Epoch [61/100] train_loss: 0.0004, val_loss: 0.0007, val_mse: 0.0007, lr: 0.000043, 1.0s\n",
      "2023-08-22 08:05:03 | Unimol_2_NMR_fix/task/trainer.py | 99 | INFO | Echem | Epoch [62/100] train_loss: 0.0004, val_loss: 0.0002, val_mse: 0.0002, lr: 0.000042, 1.0s\n",
      "2023-08-22 08:05:04 | Unimol_2_NMR_fix/task/trainer.py | 99 | INFO | Echem | Epoch [63/100] train_loss: 0.0003, val_loss: 0.0007, val_mse: 0.0007, lr: 0.000041, 1.0s\n",
      "2023-08-22 08:05:05 | Unimol_2_NMR_fix/task/trainer.py | 99 | INFO | Echem | Epoch [64/100] train_loss: 0.0003, val_loss: 0.0001, val_mse: 0.0001, lr: 0.000040, 1.0s\n",
      "2023-08-22 08:05:06 | Unimol_2_NMR_fix/task/trainer.py | 99 | INFO | Echem | Epoch [65/100] train_loss: 0.0002, val_loss: 0.0001, val_mse: 0.0001, lr: 0.000039, 1.0s\n",
      "2023-08-22 08:05:07 | Unimol_2_NMR_fix/task/trainer.py | 99 | INFO | Echem | Epoch [66/100] train_loss: 0.0002, val_loss: 0.0001, val_mse: 0.0001, lr: 0.000038, 1.0s\n",
      "2023-08-22 08:05:08 | Unimol_2_NMR_fix/task/trainer.py | 99 | INFO | Echem | Epoch [67/100] train_loss: 0.0003, val_loss: 0.0002, val_mse: 0.0002, lr: 0.000037, 0.9s\n",
      "2023-08-22 08:05:09 | Unimol_2_NMR_fix/task/trainer.py | 99 | INFO | Echem | Epoch [68/100] train_loss: 0.0002, val_loss: 0.0001, val_mse: 0.0001, lr: 0.000036, 1.0s\n",
      "2023-08-22 08:05:10 | Unimol_2_NMR_fix/task/trainer.py | 99 | INFO | Echem | Epoch [69/100] train_loss: 0.0002, val_loss: 0.0001, val_mse: 0.0001, lr: 0.000034, 0.9s\n",
      "2023-08-22 08:05:11 | Unimol_2_NMR_fix/task/trainer.py | 99 | INFO | Echem | Epoch [70/100] train_loss: 0.0003, val_loss: 0.0005, val_mse: 0.0005, lr: 0.000033, 1.0s\n",
      "2023-08-22 08:05:12 | Unimol_2_NMR_fix/task/trainer.py | 99 | INFO | Echem | Epoch [71/100] train_loss: 0.0002, val_loss: 0.0001, val_mse: 0.0001, lr: 0.000032, 0.9s\n",
      "2023-08-22 08:05:13 | Unimol_2_NMR_fix/task/trainer.py | 99 | INFO | Echem | Epoch [72/100] train_loss: 0.0002, val_loss: 0.0002, val_mse: 0.0002, lr: 0.000031, 1.0s\n",
      "2023-08-22 08:05:14 | Unimol_2_NMR_fix/task/trainer.py | 99 | INFO | Echem | Epoch [73/100] train_loss: 0.0002, val_loss: 0.0001, val_mse: 0.0001, lr: 0.000030, 0.9s\n",
      "2023-08-22 08:05:15 | Unimol_2_NMR_fix/task/trainer.py | 99 | INFO | Echem | Epoch [74/100] train_loss: 0.0001, val_loss: 0.0001, val_mse: 0.0001, lr: 0.000029, 0.9s\n",
      "2023-08-22 08:05:16 | Unimol_2_NMR_fix/task/trainer.py | 99 | INFO | Echem | Epoch [75/100] train_loss: 0.0002, val_loss: 0.0004, val_mse: 0.0004, lr: 0.000028, 0.9s\n",
      "2023-08-22 08:05:17 | Unimol_2_NMR_fix/task/trainer.py | 99 | INFO | Echem | Epoch [76/100] train_loss: 0.0001, val_loss: 0.0001, val_mse: 0.0001, lr: 0.000027, 0.9s\n",
      "2023-08-22 08:05:18 | Unimol_2_NMR_fix/task/trainer.py | 99 | INFO | Echem | Epoch [77/100] train_loss: 0.0001, val_loss: 0.0001, val_mse: 0.0001, lr: 0.000026, 1.0s\n",
      "2023-08-22 08:05:19 | Unimol_2_NMR_fix/task/trainer.py | 99 | INFO | Echem | Epoch [78/100] train_loss: 0.0002, val_loss: 0.0002, val_mse: 0.0002, lr: 0.000024, 1.0s\n",
      "2023-08-22 08:05:20 | Unimol_2_NMR_fix/task/trainer.py | 99 | INFO | Echem | Epoch [79/100] train_loss: 0.0002, val_loss: 0.0001, val_mse: 0.0001, lr: 0.000023, 0.9s\n",
      "2023-08-22 08:05:21 | Unimol_2_NMR_fix/task/trainer.py | 99 | INFO | Echem | Epoch [80/100] train_loss: 0.0002, val_loss: 0.0001, val_mse: 0.0001, lr: 0.000022, 1.0s\n",
      "2023-08-22 08:05:22 | Unimol_2_NMR_fix/task/trainer.py | 99 | INFO | Echem | Epoch [81/100] train_loss: 0.0001, val_loss: 0.0001, val_mse: 0.0001, lr: 0.000021, 1.0s\n",
      "2023-08-22 08:05:23 | Unimol_2_NMR_fix/task/trainer.py | 99 | INFO | Echem | Epoch [82/100] train_loss: 0.0001, val_loss: 0.0002, val_mse: 0.0002, lr: 0.000020, 0.9s\n",
      "2023-08-22 08:05:24 | Unimol_2_NMR_fix/task/trainer.py | 99 | INFO | Echem | Epoch [83/100] train_loss: 0.0001, val_loss: 0.0001, val_mse: 0.0001, lr: 0.000019, 1.0s\n",
      "2023-08-22 08:05:25 | Unimol_2_NMR_fix/task/trainer.py | 99 | INFO | Echem | Epoch [84/100] train_loss: 0.0001, val_loss: 0.0001, val_mse: 0.0001, lr: 0.000018, 0.9s\n",
      "2023-08-22 08:05:25 | Unimol_2_NMR_fix/task/trainer.py | 99 | INFO | Echem | Epoch [85/100] train_loss: 0.0001, val_loss: 0.0004, val_mse: 0.0004, lr: 0.000017, 0.9s\n",
      "2023-08-22 08:05:26 | Unimol_2_NMR_fix/task/trainer.py | 99 | INFO | Echem | Epoch [86/100] train_loss: 0.0001, val_loss: 0.0001, val_mse: 0.0001, lr: 0.000016, 0.9s\n",
      "2023-08-22 08:05:27 | Unimol_2_NMR_fix/task/trainer.py | 99 | INFO | Echem | Epoch [87/100] train_loss: 0.0001, val_loss: 0.0000, val_mse: 0.0000, lr: 0.000014, 0.9s\n",
      "2023-08-22 08:05:28 | Unimol_2_NMR_fix/task/trainer.py | 99 | INFO | Echem | Epoch [88/100] train_loss: 0.0001, val_loss: 0.0001, val_mse: 0.0001, lr: 0.000013, 1.0s\n",
      "2023-08-22 08:05:29 | Unimol_2_NMR_fix/task/trainer.py | 99 | INFO | Echem | Epoch [89/100] train_loss: 0.0001, val_loss: 0.0000, val_mse: 0.0000, lr: 0.000012, 1.0s\n",
      "2023-08-22 08:05:30 | Unimol_2_NMR_fix/task/trainer.py | 99 | INFO | Echem | Epoch [90/100] train_loss: 0.0001, val_loss: 0.0001, val_mse: 0.0001, lr: 0.000011, 1.0s\n",
      "2023-08-22 08:05:31 | Unimol_2_NMR_fix/task/trainer.py | 99 | INFO | Echem | Epoch [91/100] train_loss: 0.0000, val_loss: 0.0000, val_mse: 0.0000, lr: 0.000010, 0.9s\n",
      "2023-08-22 08:05:32 | Unimol_2_NMR_fix/task/trainer.py | 99 | INFO | Echem | Epoch [92/100] train_loss: 0.0000, val_loss: 0.0000, val_mse: 0.0000, lr: 0.000009, 1.0s\n",
      "2023-08-22 08:05:33 | Unimol_2_NMR_fix/task/trainer.py | 99 | INFO | Echem | Epoch [93/100] train_loss: 0.0000, val_loss: 0.0000, val_mse: 0.0000, lr: 0.000008, 1.0s\n",
      "2023-08-22 08:05:34 | Unimol_2_NMR_fix/task/trainer.py | 99 | INFO | Echem | Epoch [94/100] train_loss: 0.0000, val_loss: 0.0000, val_mse: 0.0000, lr: 0.000007, 0.9s\n",
      "2023-08-22 08:05:35 | Unimol_2_NMR_fix/task/trainer.py | 99 | INFO | Echem | Epoch [95/100] train_loss: 0.0000, val_loss: 0.0000, val_mse: 0.0000, lr: 0.000006, 0.9s\n",
      "2023-08-22 08:05:36 | Unimol_2_NMR_fix/task/trainer.py | 99 | INFO | Echem | Epoch [96/100] train_loss: 0.0000, val_loss: 0.0000, val_mse: 0.0000, lr: 0.000004, 1.0s\n",
      "2023-08-22 08:05:37 | Unimol_2_NMR_fix/task/trainer.py | 99 | INFO | Echem | Epoch [97/100] train_loss: 0.0000, val_loss: 0.0000, val_mse: 0.0000, lr: 0.000003, 0.9s\n",
      "2023-08-22 08:05:38 | Unimol_2_NMR_fix/task/trainer.py | 99 | INFO | Echem | Epoch [98/100] train_loss: 0.0000, val_loss: 0.0000, val_mse: 0.0000, lr: 0.000002, 0.9s\n",
      "2023-08-22 08:05:39 | Unimol_2_NMR_fix/task/trainer.py | 99 | INFO | Echem | Epoch [99/100] train_loss: 0.0000, val_loss: 0.0000, val_mse: 0.0000, lr: 0.000001, 1.0s\n",
      "2023-08-22 08:05:40 | Unimol_2_NMR_fix/task/trainer.py | 99 | INFO | Echem | Epoch [100/100] train_loss: 0.0000, val_loss: 0.0000, val_mse: 0.0000, lr: 0.000000, 1.0s\n",
      "2023-08-22 08:05:40 | Unimol_2_NMR_fix/task/trainer.py | 113 | INFO | Echem | load model success!\n",
      "2023-08-22 08:05:40 | Unimol_2_NMR_fix/model/nnmodel.py | 84 | INFO | Echem | MLPModel NN model metrics score: \n",
      "{'mse': 2.773088e-05, 'mae': 0.003624702, 'r2': 0.9986344522806578, 'spearmanr': 0.9986135262752147}\n",
      "2023-08-22 08:05:40 | Unimol_2_NMR_fix/model/nnmodel.py | 85 | INFO | Echem | MLPModel NN model done!\n",
      "2023-08-22 08:05:40 | Unimol_2_NMR_fix/model/nnmodel.py | 86 | INFO | Echem | Metric result saved!\n",
      "2023-08-22 08:05:40 | Unimol_2_NMR_fix/model/nnmodel.py | 87 | INFO | Echem | MLPModel Model saved!\n"
     ]
    },
    {
     "name": "stdout",
     "output_type": "stream",
     "text": [
      "result {'mse': 2.773088e-05, 'mae': 0.003624702, 'r2': 0.9986344522806578, 'spearmanr': 0.9986135262752147}\n"
     ]
    }
   ],
   "source": [
    "nfm.run()"
   ]
  }
 ],
 "metadata": {
  "kernelspec": {
   "display_name": "pytorch1.12",
   "language": "python",
   "name": "python3"
  },
  "language_info": {
   "codemirror_mode": {
    "name": "ipython",
    "version": 3
   },
   "file_extension": ".py",
   "mimetype": "text/x-python",
   "name": "python",
   "nbconvert_exporter": "python",
   "pygments_lexer": "ipython3",
   "version": "3.8.17"
  },
  "orig_nbformat": 4
 },
 "nbformat": 4,
 "nbformat_minor": 2
}
